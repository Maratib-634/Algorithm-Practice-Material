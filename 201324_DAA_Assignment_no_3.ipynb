{
  "nbformat": 4,
  "nbformat_minor": 0,
  "metadata": {
    "colab": {
      "provenance": [],
      "authorship_tag": "ABX9TyOcE6qW86+nLpHIqQCgmrmZ",
      "include_colab_link": true
    },
    "kernelspec": {
      "name": "python3",
      "display_name": "Python 3"
    },
    "language_info": {
      "name": "python"
    }
  },
  "cells": [
    {
      "cell_type": "markdown",
      "metadata": {
        "id": "view-in-github",
        "colab_type": "text"
      },
      "source": [
        "<a href=\"https://colab.research.google.com/github/Maratib-634/Algorithm-Practice-Material/blob/main/201324_DAA_Assignment_no_3.ipynb\" target=\"_parent\"><img src=\"https://colab.research.google.com/assets/colab-badge.svg\" alt=\"Open In Colab\"/></a>"
      ]
    },
    {
      "cell_type": "markdown",
      "source": [
        "##**DEPTH FIRST SEARCH**"
      ],
      "metadata": {
        "id": "CseMgxYadU5D"
      }
    },
    {
      "cell_type": "code",
      "execution_count": 1,
      "metadata": {
        "colab": {
          "base_uri": "https://localhost:8080/"
        },
        "id": "7nzIQwqAdBhQ",
        "outputId": "bcfc0a3a-646e-4284-9190-d80554be936b"
      },
      "outputs": [
        {
          "output_type": "stream",
          "name": "stdout",
          "text": [
            "DFS Traversal:\n",
            "A\n",
            "B\n",
            "D\n",
            "E\n",
            "F\n",
            "C\n",
            "C\n"
          ]
        },
        {
          "output_type": "execute_result",
          "data": {
            "text/plain": [
              "{'A', 'B', 'C', 'D', 'E', 'F'}"
            ]
          },
          "metadata": {},
          "execution_count": 1
        }
      ],
      "source": [
        "def dfs(graph, start, visited=None):\n",
        "    if visited is None:\n",
        "        visited = set()\n",
        "    visited.add(start)\n",
        "    print(start)\n",
        "    for neighbor in graph[start] - visited:\n",
        "        dfs(graph, neighbor, visited)\n",
        "    return visited\n",
        "\n",
        "# Example usage:\n",
        "graph = {\n",
        "    'A': {'B', 'C'},\n",
        "    'B': {'A', 'D', 'E'},\n",
        "    'C': {'A', 'F'},\n",
        "    'D': {'B'},\n",
        "    'E': {'B', 'F'},\n",
        "    'F': {'C', 'E'}\n",
        "}\n",
        "print(\"DFS Traversal:\")\n",
        "dfs(graph, 'A')\n"
      ]
    },
    {
      "cell_type": "markdown",
      "source": [
        "##**2. BREATH FIRST SEARCH**"
      ],
      "metadata": {
        "id": "_2s17D2KdkaP"
      }
    },
    {
      "cell_type": "code",
      "source": [
        "from collections import deque\n",
        "\n",
        "def bfs(graph, start):\n",
        "    visited = set()\n",
        "    queue = deque([start])\n",
        "    visited.add(start)\n",
        "    while queue:\n",
        "        vertex = queue.popleft()\n",
        "        print(vertex)\n",
        "        for neighbor in graph[vertex] - visited:\n",
        "            visited.add(neighbor)\n",
        "            queue.append(neighbor)\n",
        "\n",
        "# Example usage:\n",
        "graph = {\n",
        "    'A': {'B', 'C'},\n",
        "    'B': {'A', 'D', 'E'},\n",
        "    'C': {'A', 'F'},\n",
        "    'D': {'B'},\n",
        "    'E': {'B', 'F'},\n",
        "    'F': {'C', 'E'}\n",
        "}\n",
        "print(\"BFS Traversal:\")\n",
        "bfs(graph, 'A')\n"
      ],
      "metadata": {
        "colab": {
          "base_uri": "https://localhost:8080/"
        },
        "id": "Xs9zKIXedrUu",
        "outputId": "1ffbcd7b-cf60-480b-e4e5-7ab222b0695f"
      },
      "execution_count": 2,
      "outputs": [
        {
          "output_type": "stream",
          "name": "stdout",
          "text": [
            "BFS Traversal:\n",
            "A\n",
            "B\n",
            "C\n",
            "D\n",
            "E\n",
            "F\n"
          ]
        }
      ]
    },
    {
      "cell_type": "markdown",
      "source": [
        "##**3. Dijkstra's Algorithm**"
      ],
      "metadata": {
        "id": "TEsBQ8AadyMJ"
      }
    },
    {
      "cell_type": "code",
      "source": [
        "import heapq\n",
        "\n",
        "def dijkstra(graph, start):\n",
        "    distances = {vertex: float('infinity') for vertex in graph}\n",
        "    distances[start] = 0\n",
        "    pq = [(0, start)]\n",
        "    while pq:\n",
        "        current_distance, current_vertex = heapq.heappop(pq)\n",
        "        if current_distance > distances[current_vertex]:\n",
        "            continue\n",
        "        for neighbor, weight in graph[current_vertex].items():\n",
        "            distance = current_distance + weight\n",
        "            if distance < distances[neighbor]:\n",
        "                distances[neighbor] = distance\n",
        "                heapq.heappush(pq, (distance, neighbor))\n",
        "    return distances\n",
        "\n",
        "# Example usage:\n",
        "graph = {\n",
        "    'A': {'B': 5, 'C': 2},\n",
        "    'B': {'A': 5, 'D': 3},\n",
        "    'C': {'A': 2, 'D': 6},\n",
        "    'D': {'B': 3, 'C': 6}\n",
        "}\n",
        "print(\"Dijkstra's Shortest Path:\")\n",
        "print(dijkstra(graph, 'A'))\n"
      ],
      "metadata": {
        "colab": {
          "base_uri": "https://localhost:8080/"
        },
        "id": "7fGueCAXdt1J",
        "outputId": "79fa79c2-ae88-4151-882f-b3f1a490947c"
      },
      "execution_count": 3,
      "outputs": [
        {
          "output_type": "stream",
          "name": "stdout",
          "text": [
            "Dijkstra's Shortest Path:\n",
            "{'A': 0, 'B': 5, 'C': 2, 'D': 8}\n"
          ]
        }
      ]
    },
    {
      "cell_type": "code",
      "source": [],
      "metadata": {
        "id": "8vf0lIrgd22v"
      },
      "execution_count": null,
      "outputs": []
    }
  ]
}